{
 "cells": [
  {
   "cell_type": "code",
   "execution_count": 34,
   "metadata": {},
   "outputs": [],
   "source": [
    "import sys\n",
    "import os\n",
    "\n",
    "SCRIPT_DIR = os.path.dirname(os.path.abspath(os.getcwd()))\n",
    "sys.path.append(SCRIPT_DIR)\n",
    "\n",
    "import numpy as np\n",
    "\n",
    "import matplotlib.pyplot as plt\n",
    "from matplotlib.colors import LogNorm\n",
    "from tueplots import bundles, figsizes\n",
    "\n",
    "from bocpd import bocpd\n",
    "from hazard import ConstantHazard\n",
    "from models import DSMGaussian\n",
    "from models import Gaussian\n",
    "from omega_estimator import OmegaEstimatorGaussian\n",
    "from utils.find_cp import find_cp\n",
    "\n",
    "CB_color_cycle = ['#377eb8', '#ff7f00', '#4daf4a',\n",
    "                  '#f781bf', '#a65628', '#984ea3',\n",
    "                  '#999999', '#e41a1c', '#dede00']"
   ]
  },
  {
   "cell_type": "code",
   "execution_count": 123,
   "metadata": {},
   "outputs": [],
   "source": [
    "def accuracy_delay(cps_pred, cps_true, window=10):\n",
    "    TP = 0\n",
    "    FP = 0\n",
    "    FN = 0\n",
    "    delays = []\n",
    "    for cp in cps_pred[1:]:\n",
    "        if np.min(np.abs(np.array(cps_true)-cp))<window:\n",
    "            TP+=1\n",
    "            delays.append(np.min(np.abs(np.array(cps_true)-cp)))\n",
    "        else:\n",
    "            FP+=1\n",
    "    for cp in np.array(cps_true)[:-1]:\n",
    "        if np.min(np.abs(np.array(cps_pred)-cp))>window:\n",
    "            FN+=1\n",
    "    return [TP/(TP+FP), TP/(TP+FN)], delays"
   ]
  },
  {
   "cell_type": "code",
   "execution_count": 124,
   "metadata": {},
   "outputs": [],
   "source": [
    "np.random.seed(3000)\n",
    "\n",
    "T = 500\n",
    "data = np.zeros((T,1))\n",
    "cps_true = [100, 200, 300, 350, 400, 450, 600]\n",
    "mus = [10, 5, 0 , 10, 5 , 12, 0]\n",
    "mu = mus[0]\n",
    "i = 0 \n",
    "for t in range(0, T):\n",
    "    if t == cps_true[i]:\n",
    "        mu = mus[i+1]\n",
    "        i = i+1\n",
    "    data[t,0] = np.random.normal(mu, 1)"
   ]
  },
  {
   "cell_type": "code",
   "execution_count": 125,
   "metadata": {},
   "outputs": [],
   "source": [
    "mean0 = np.mean(data)\n",
    "var0 = np.var(data)\n"
   ]
  },
  {
   "cell_type": "code",
   "execution_count": 126,
   "metadata": {},
   "outputs": [],
   "source": [
    "model  = Gaussian(mu0=mean0, kappa0=1, alpha0=1, omega0=1)\n",
    "hazard = ConstantHazard(300)\n",
    "R_ST_NO = bocpd(data, hazard, model)\n",
    "cps_ST_NO = find_cp(R_ST_NO)"
   ]
  },
  {
   "cell_type": "code",
   "execution_count": 127,
   "metadata": {},
   "outputs": [],
   "source": [
    "mean_mu0 = mean0\n",
    "var_mu0 = 1\n",
    "\n",
    "mean_Sigma0 = 1\n",
    "var_Sigma0 = 1\n",
    "\n",
    "mu0 = np.array([[mean_mu0/var_mu0], [1/var_mu0]])\n",
    "\n",
    "Sigma0 = np.eye(2)\n",
    "Sigma0[0,0] = mean_Sigma0/var_Sigma0\n",
    "Sigma0[1,1] = 1/var_Sigma0\n",
    "\n",
    "def m(x):\n",
    "    return np.array([(1+x**2)**(-1/2)])\n",
    "\n",
    "def grad_m(x):\n",
    "    return np.array([[-x/((1+x**2)**(3/2))]])\n",
    "\n",
    "model  = DSMGaussian(data=data, m=m, grad_m=grad_m, omega=1, mu0=mu0, Sigma0=Sigma0)\n",
    "hazard = ConstantHazard(300)\n",
    "R_DSM_NO = bocpd(data, hazard, model)\n",
    "cps_DSM_NO = find_cp(R_DSM_NO)"
   ]
  },
  {
   "cell_type": "code",
   "execution_count": 128,
   "metadata": {},
   "outputs": [
    {
     "name": "stdout",
     "output_type": "stream",
     "text": [
      "[1.0, 1.0] 0.16666666666666666 0.13888888888888892\n",
      "[1.0, 1.0] 0.0 0.0\n"
     ]
    }
   ],
   "source": [
    "PPV_DSM_NO, delays_DSM_NO = accuracy_delay(cps_DSM_NO,cps_true)\n",
    "PPV_ST_NO, delays_ST_NO = accuracy_delay(cps_ST_NO,cps_true)\n",
    "print(PPV_DSM_NO, np.mean(delays_DSM_NO), np.var(delays_DSM_NO))\n",
    "print(PPV_ST_NO, np.mean(delays_ST_NO), np.var(delays_ST_NO))"
   ]
  },
  {
   "cell_type": "code",
   "execution_count": 129,
   "metadata": {},
   "outputs": [],
   "source": [
    "np.random.seed(54321)\n",
    "i_obs = np.random.choice(\n",
    "    np.arange(0, T, 1), int(0.02 * T), replace=False)\n",
    "\n",
    "data_contaminated = data.copy()\n",
    "j = np.random.choice([1,-1],size = len(i_obs))\n",
    "data_contaminated[i_obs,0] = data_contaminated[i_obs,0] + j*10"
   ]
  },
  {
   "cell_type": "code",
   "execution_count": 130,
   "metadata": {},
   "outputs": [],
   "source": [
    "mean0 = np.mean(data)"
   ]
  },
  {
   "cell_type": "code",
   "execution_count": 142,
   "metadata": {},
   "outputs": [],
   "source": [
    "cps_DSM = []\n",
    "cps_ST = []\n",
    "for i in range(10):\n",
    "    i_obs = np.random.choice(\n",
    "        np.arange(0, T, 1), int(0.02 * T), replace=False)\n",
    "\n",
    "    data_contaminated = data.copy()\n",
    "    j = np.random.choice([1,-1],size = len(i_obs))\n",
    "    data_contaminated[i_obs,0] = data_contaminated[i_obs,0] + j*10\n",
    "\n",
    "    mean_mu0 = mean0\n",
    "    var_mu0 = 1\n",
    "\n",
    "    mean_Sigma0 = 1\n",
    "    var_Sigma0 = 1\n",
    "\n",
    "    mu0 = np.array([[mean_mu0/var_mu0], [1/var_mu0]])\n",
    "\n",
    "    Sigma0 = np.eye(2)\n",
    "    Sigma0[0,0] = mean_Sigma0/var_Sigma0\n",
    "    Sigma0[1,1] = 1/var_Sigma0\n",
    "\n",
    "    def m(x):\n",
    "        return np.array([(1+x**2)**(-1/2)])\n",
    "\n",
    "    def grad_m(x):\n",
    "        return np.array([[-x/((1+x**2)**(3/2))]])\n",
    "\n",
    "    model  = DSMGaussian(data=data_contaminated, m=m, grad_m=grad_m, omega=0.1, mu0=mu0, Sigma0=Sigma0)\n",
    "    hazard = ConstantHazard(300)\n",
    "    R_DSM = bocpd(data_contaminated, hazard, model)\n",
    "    cp_DSM = find_cp(R_DSM)\n",
    "\n",
    "    model  = Gaussian(mu0=mean0, kappa0=1, alpha0=1, omega0=1)\n",
    "    hazard = ConstantHazard(300)\n",
    "    R_ST = bocpd(data_contaminated, hazard, model)\n",
    "    cp_ST = find_cp(R_ST)\n",
    "    \n",
    "    cps_DSM.append(cp_DSM)\n",
    "    cps_ST.append(cp_ST)"
   ]
  },
  {
   "cell_type": "code",
   "execution_count": 150,
   "metadata": {},
   "outputs": [],
   "source": [
    "accuracies = []\n",
    "delays = []\n",
    "for cp in cps_DSM:\n",
    "    aux = accuracy_delay(cp,cps_true)\n",
    "    accuracies.append(aux[0])\n",
    "    delays.append(aux[1])\n",
    "\n",
    "delays_mean= [np.mean(delay) for delay in delays]"
   ]
  },
  {
   "cell_type": "code",
   "execution_count": 151,
   "metadata": {},
   "outputs": [
    {
     "name": "stdout",
     "output_type": "stream",
     "text": [
      "PPV: 0.907±0.154\n",
      "TPR: 0.883±0.13\n",
      "Delays: 1.643±0.475\n"
     ]
    }
   ],
   "source": [
    "print('PPV: ' + str(np.round(np.mean(np.array(accuracies)[:,0]),3))+'±'+ str(np.round(np.sqrt(np.var(np.array(accuracies)[:,0])),3)))\n",
    "print('TPR: ' + str(np.round(np.mean(np.array(accuracies)[:,1]),3))+'±'+ str(np.round(np.sqrt(np.var(np.array(accuracies)[:,1])),3)))\n",
    "print('Delays: '+ str(np.round(np.mean(np.array(delays_mean)),3))+'±'+ str(np.round(np.sqrt(np.var(np.array(delays_mean))),3)))"
   ]
  },
  {
   "cell_type": "code",
   "execution_count": 152,
   "metadata": {},
   "outputs": [],
   "source": [
    "accuracies = []\n",
    "delays = []\n",
    "for cp in cps_ST:\n",
    "    aux = accuracy_delay(cp,cps_true)\n",
    "    accuracies.append(aux[0])\n",
    "    delays.append(aux[1])\n",
    "delays_mean= [np.mean(delay) for delay in delays]"
   ]
  },
  {
   "cell_type": "code",
   "execution_count": 153,
   "metadata": {},
   "outputs": [
    {
     "name": "stdout",
     "output_type": "stream",
     "text": [
      "PPV: 0.6±0.128\n",
      "TPR: 0.833±0.149\n",
      "Delays: 1.057±1.545\n"
     ]
    }
   ],
   "source": [
    "print('PPV: ' + str(np.round(np.mean(np.array(accuracies)[:,0]),3))+'±'+ str(np.round(np.sqrt(np.var(np.array(accuracies)[:,0])),3)))\n",
    "print('TPR: ' + str(np.round(np.mean(np.array(accuracies)[:,1]),3))+'±'+ str(np.round(np.sqrt(np.var(np.array(accuracies)[:,1])),3)))\n",
    "print('Delays: '+ str(np.round(np.mean(np.array(delays_mean)),3))+'±'+ str(np.round(np.sqrt(np.var(np.array(delays_mean))),3)))"
   ]
  }
 ],
 "metadata": {
  "kernelspec": {
   "display_name": "DSM-BOCD",
   "language": "python",
   "name": "python3"
  },
  "language_info": {
   "codemirror_mode": {
    "name": "ipython",
    "version": 3
   },
   "file_extension": ".py",
   "mimetype": "text/x-python",
   "name": "python",
   "nbconvert_exporter": "python",
   "pygments_lexer": "ipython3",
   "version": "3.9.16"
  },
  "orig_nbformat": 4
 },
 "nbformat": 4,
 "nbformat_minor": 2
}
