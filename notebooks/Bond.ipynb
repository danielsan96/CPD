{
 "cells": [
  {
   "cell_type": "markdown",
   "id": "03191897",
   "metadata": {},
   "source": [
    "# UK 10 year government bond yield"
   ]
  },
  {
   "cell_type": "code",
   "execution_count": 1,
   "id": "5c6e0bc7",
   "metadata": {},
   "outputs": [
    {
     "name": "stderr",
     "output_type": "stream",
     "text": [
      "No GPU/TPU found, falling back to CPU. (Set TF_CPP_MIN_LOG_LEVEL=0 and rerun for more info.)\n"
     ]
    }
   ],
   "source": [
    "import sys\n",
    "import os\n",
    "\n",
    "SCRIPT_DIR = os.path.dirname(os.path.abspath(os.getcwd()))\n",
    "sys.path.append(SCRIPT_DIR)\n",
    "\n",
    "import numpy as np\n",
    "import pandas as pd\n",
    "\n",
    "import matplotlib.pyplot as plt\n",
    "from   matplotlib.colors import LogNorm\n",
    "import matplotlib.dates as mdates\n",
    "from tueplots import bundles\n",
    "\n",
    "from bocpd import bocpd\n",
    "from hazard import ConstantHazard\n",
    "from models import DSMGamma\n",
    "from omega_estimator import OmegaEstimatorGamma\n",
    "from utils.find_cp import find_cp\n",
    "\n",
    "CB_color_cycle = ['#377eb8', '#ff7f00', '#4daf4a',\n",
    "                  '#f781bf', '#a65628', '#984ea3',\n",
    "                  '#999999', '#e41a1c', '#dede00']"
   ]
  },
  {
   "cell_type": "code",
   "execution_count": 2,
   "id": "6b37513f",
   "metadata": {},
   "outputs": [],
   "source": [
    "DATA_PATH = os.path.join(SCRIPT_DIR,'data/bond')\n",
    "RESULT_PATH = os.path.join(SCRIPT_DIR,'notebooks/results/bond')\n",
    "FILE_PATH = os.path.join(DATA_PATH,'United Kingdom 10-Year Bond Yield Historical Data.csv')"
   ]
  },
  {
   "cell_type": "markdown",
   "id": "b1d38e87",
   "metadata": {},
   "source": [
    "## Import Data"
   ]
  },
  {
   "cell_type": "code",
   "execution_count": 3,
   "id": "0a07ed65",
   "metadata": {},
   "outputs": [],
   "source": [
    "df = pd.read_csv(FILE_PATH)\n",
    "df['Date'] = pd.to_datetime(df['Date'])\n",
    "df.sort_values(by='Date', inplace=True)\n",
    "df = df.set_index('Date').resample('D').interpolate('linear')\n",
    "data = df['Price'].values\n",
    "dates = df.index.values"
   ]
  },
  {
   "cell_type": "code",
   "execution_count": 4,
   "id": "41a582f6",
   "metadata": {},
   "outputs": [],
   "source": [
    "T = len(data)\n",
    "data = data.reshape((T,1))"
   ]
  },
  {
   "cell_type": "code",
   "execution_count": 5,
   "id": "f113e868",
   "metadata": {
    "scrolled": true
   },
   "outputs": [
    {
     "data": {
      "text/plain": [
       "[<matplotlib.lines.Line2D at 0x7fda8c5af310>]"
      ]
     },
     "execution_count": 5,
     "metadata": {},
     "output_type": "execute_result"
    },
    {
     "data": {
      "image/png": "[encoded data removed]",
      "text/plain": [
       "<Figure size 576x144 with 1 Axes>"
      ]
     },
     "metadata": {
      "needs_background": "light"
     },
     "output_type": "display_data"
    }
   ],
   "source": [
    "plt.subplots(figsize=(8,2))\n",
    "plt.plot(dates,data)"
   ]
  },
  {
   "cell_type": "markdown",
   "id": "912120e0",
   "metadata": {},
   "source": [
    "## Define functions needed for the method: $m$, $\\nabla m$ , $\\nabla r$, $\\nabla b$ , $\\nabla^2 r$"
   ]
  },
  {
   "cell_type": "code",
   "execution_count": 6,
   "id": "2f2d48e9",
   "metadata": {},
   "outputs": [],
   "source": [
    "def m(x):\n",
    "    return np.asarray([(1+x**2)**(-1/2)])\n",
    "\n",
    "def grad_m(x):\n",
    "    return np.asarray([[-x/((1+x**2)**(3/2))]])\n",
    "\n",
    "def grad_r(x):\n",
    "    return np.asarray([[1/x,-1]],dtype='float')\n",
    "\n",
    "def grad_b(x):\n",
    "    return np.asarray([[0]])\n",
    "\n",
    "def hess_r(x):\n",
    "    return np.asarray([[[-1/(x**2),0]]],dtype='float')"
   ]
  },
  {
   "cell_type": "markdown",
   "id": "79e71d45",
   "metadata": {},
   "source": [
    "## Prior parameters"
   ]
  },
  {
   "cell_type": "code",
   "execution_count": 7,
   "id": "205fc163",
   "metadata": {},
   "outputs": [],
   "source": [
    "k_mu0 = 0\n",
    "theta_mu0 = 1\n",
    "\n",
    "k_Sigma0 = 50\n",
    "theta_Sigma0 = 3\n",
    "\n",
    "\n",
    "mu0 = np.asarray([[k_mu0], [theta_mu0]])\n",
    "\n",
    "Sigma0 = np.eye(2)\n",
    "Sigma0[0,0] = k_Sigma0\n",
    "Sigma0[1,1] = theta_Sigma0"
   ]
  },
  {
   "cell_type": "markdown",
   "id": "fcebb658",
   "metadata": {},
   "source": [
    "## Initialize estimator to find $\\omega$"
   ]
  },
  {
   "cell_type": "code",
   "execution_count": 8,
   "id": "2660e08d",
   "metadata": {},
   "outputs": [],
   "source": [
    "estimator = OmegaEstimatorGamma(data[:100], m ,grad_m, grad_r, hess_r, grad_b, mu0, Sigma0)"
   ]
  },
  {
   "cell_type": "code",
   "execution_count": 9,
   "id": "5fb83361",
   "metadata": {},
   "outputs": [],
   "source": [
    "omegas, costs = estimator.omega(1.0, lr = 0.0001, niter = 1000)"
   ]
  },
  {
   "cell_type": "code",
   "execution_count": 10,
   "id": "5f3c77d1",
   "metadata": {},
   "outputs": [
    {
     "name": "stdout",
     "output_type": "stream",
     "text": [
      "0.049032747745513916\n"
     ]
    }
   ],
   "source": [
    "omega = omegas[-1]\n",
    "print(omega)"
   ]
  },
  {
   "cell_type": "markdown",
   "id": "8efa2db9",
   "metadata": {},
   "source": [
    "## Initialize model and CP prior"
   ]
  },
  {
   "cell_type": "code",
   "execution_count": 11,
   "id": "f1c5bb17",
   "metadata": {},
   "outputs": [],
   "source": [
    "model = DSMGamma(data, m ,grad_m, grad_r, hess_r, grad_b, omega, mu0, Sigma0, b = 20)"
   ]
  },
  {
   "cell_type": "code",
   "execution_count": 12,
   "id": "2d75574e",
   "metadata": {},
   "outputs": [],
   "source": [
    "hazard = ConstantHazard(100)"
   ]
  },
  {
   "cell_type": "markdown",
   "id": "d3497d2b",
   "metadata": {},
   "source": [
    "## Run BOCD algorithm"
   ]
  },
  {
   "cell_type": "code",
   "execution_count": 13,
   "id": "c38a2a21",
   "metadata": {},
   "outputs": [
    {
     "name": "stdout",
     "output_type": "stream",
     "text": [
      "Processing observation #100\n",
      "Processing observation #200\n",
      "Processing observation #300\n",
      "Processing observation #400\n",
      "Processing observation #500\n",
      "Processing observation #600\n",
      "Processing observation #700\n",
      "Processing observation #800\n",
      "Processing observation #900\n",
      "Processing observation #1000\n",
      "Processing observation #1100\n",
      "Processing observation #1200\n",
      "Processing observation #1300\n",
      "Processing observation #1400\n",
      "Processing observation #1500\n",
      "Processing observation #1600\n",
      "Processing observation #1700\n",
      "Processing observation #1800\n",
      "CPU times: user 6min 34s, sys: 1.36 s, total: 6min 35s\n",
      "Wall time: 7min 22s\n"
     ]
    }
   ],
   "source": [
    "%%time\n",
    "R_DSM  = bocpd(data, hazard, model, K=50, verbose=True)"
   ]
  },
  {
   "cell_type": "markdown",
   "id": "c9711527",
   "metadata": {},
   "source": [
    "## Plots"
   ]
  },
  {
   "cell_type": "code",
   "execution_count": 14,
   "id": "ae462d17",
   "metadata": {},
   "outputs": [],
   "source": [
    "events = np.flip(np.array(['2022-09-06', # Liz Truss\n",
    "                   '2021-12-06', # Restriction covid\n",
    "                   '2021-07-19', # Restriction end\n",
    "                   '2021-01-08', # Covid third wage\n",
    "                   '2020-04-15', # Covid first wage\n",
    "                   '2020-02-21', # Covid started\n",
    "                   '2019-07-24', # Boris Johnson\n",
    "                   '2019-05-24', # Theresa May resignation\n",
    "                  ], dtype='datetime64'))"
   ]
  },
  {
   "cell_type": "code",
   "execution_count": 15,
   "id": "3933ec26",
   "metadata": {},
   "outputs": [
    {
     "name": "stderr",
     "output_type": "stream",
     "text": [
      "/tmp/ipykernel_46986/3985459539.py:42: UserWarning: This figure was using constrained_layout, but that is incompatible with subplots_adjust and/or tight_layout; disabling constrained_layout.\n",
      "  fig.subplots_adjust(hspace=0)\n"
     ]
    },
    {
     "data": {
      "image/png": "[encoded data removed]",
      "text/plain": [
       "<Figure size 1350x200 with 2 Axes>"
      ]
     },
     "metadata": {
      "needs_background": "light"
     },
     "output_type": "display_data"
    }
   ],
   "source": [
    "FILE_NAME = 'Bond.pdf'\n",
    "R = R_DSM\n",
    "cps = find_cp(R_DSM)\n",
    "cp_color = CB_color_cycle[0]\n",
    "import matplotlib.dates as mdates\n",
    "x_lims = mdates.date2num([dates[0],dates[-1]])\n",
    "\n",
    "with plt.rc_context(bundles.icml2022(column = 'full', ncols=3)):\n",
    "\n",
    "    fig, ax = plt.subplots(2, 1, sharex = True, gridspec_kw={'height_ratios': [1,1]}, dpi = 200, figsize=(6.75, 1))\n",
    "    ax[0].plot(dates, data[:,0],c='black',lw=0.8)\n",
    "    \n",
    "    ax[1].set_xlim([x_lims[0],x_lims[1]])\n",
    "    ax[1].set_ylim([0,T/2])\n",
    "    ax[1].imshow(np.rot90(R), aspect='auto', cmap='gray_r', \n",
    "                   norm=LogNorm(vmin=0.0001, vmax=1), extent=[x_lims[0],x_lims[1],0,T])\n",
    "    ax[1].plot(dates, np.argmax(R[1:],axis=1), c=cp_color, alpha=1, lw=1)\n",
    "\n",
    "    for cp in cps:\n",
    "        ax[0].axvline(dates[cp], c=cp_color, ls='dotted', lw=2)\n",
    "        ax[1].axvline(dates[cp], c=cp_color, ls='dotted', lw=2)\n",
    "    \n",
    "    for i, event in enumerate(events):\n",
    "        ax[0].axvline(event,c='grey', alpha = 0.7, lw= 2)\n",
    "        ax[0].text(event, 5.5, i+1, fontsize = bundles.icml2022(column = 'full', ncols=2)['font.size'], horizontalalignment='center', verticalalignment='center')\n",
    "        \n",
    "    ax[0].xaxis.set_major_locator(mdates.MonthLocator(bymonth=(1, 7)))\n",
    "    ax[0].xaxis.set_minor_locator(mdates.MonthLocator())\n",
    "    \n",
    "    #for label in ax[1].get_xticklabels(which='major'):\n",
    "    #    label.set(rotation=30, horizontalalignment='right')\n",
    "    \n",
    "    ax[1].set_xlabel('time')\n",
    "    \n",
    "    ax[0].set_ylabel('bond yields', size = 6)\n",
    "    ax[1].set_ylabel('run-length', size = 6)\n",
    "    \n",
    "    \n",
    "    ax[0].yaxis.set_label_coords(-0.07,0.6)\n",
    "    ax[1].yaxis.set_label_coords(-0.07,0.3)\n",
    "    \n",
    "    fig.subplots_adjust(hspace=0)\n",
    "    fig.savefig(os.path.join(RESULT_PATH, FILE_NAME), format=\"pdf\", bbox_inches= \"tight\")"
   ]
  }
 ],
 "metadata": {
  "kernelspec": {
   "display_name": "Python 3 (ipykernel)",
   "language": "python",
   "name": "python3"
  },
  "language_info": {
   "codemirror_mode": {
    "name": "ipython",
    "version": 3
   },
   "file_extension": ".py",
   "mimetype": "text/x-python",
   "name": "python",
   "nbconvert_exporter": "python",
   "pygments_lexer": "ipython3",
   "version": "3.8.5"
  }
 },
 "nbformat": 4,
 "nbformat_minor": 5
}
