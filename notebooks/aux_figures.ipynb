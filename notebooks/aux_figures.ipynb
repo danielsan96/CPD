{
 "cells": [
  {
   "cell_type": "code",
   "execution_count": 1,
   "id": "7f6a14b7",
   "metadata": {},
   "outputs": [],
   "source": [
    "import numpy as np\n",
    "import matplotlib.pyplot as plt\n",
    "from tueplots import bundles, figsizes\n",
    "from scipy import stats"
   ]
  },
  {
   "cell_type": "code",
   "execution_count": 2,
   "id": "4d02ac80",
   "metadata": {},
   "outputs": [],
   "source": [
    "def grad_log_normal(x,mu=0, sigma=1):\n",
    "    return -(x-mu)/sigma**2"
   ]
  },
  {
   "cell_type": "code",
   "execution_count": 3,
   "id": "f5aa9012",
   "metadata": {},
   "outputs": [],
   "source": [
    "def m(x):\n",
    "    return np.sqrt(1/(1+x**2))"
   ]
  },
  {
   "cell_type": "code",
   "execution_count": 5,
   "id": "48e133df",
   "metadata": {},
   "outputs": [
    {
     "data": {
      "image/png": "[encoded data removed]",
      "text/plain": [
       "<Figure size 234x48.2067 with 3 Axes>"
      ]
     },
     "metadata": {
      "needs_background": "light"
     },
     "output_type": "display_data"
    }
   ],
   "source": [
    "x = np.linspace(-10, 10, 10000)\n",
    "FILE_NAME = 'aux-figures\\score_col.pdf'\n",
    "with plt.rc_context(bundles.icml2022(ncols=3)):\n",
    "    fig, axs = plt.subplots(ncols=3)\n",
    "    axs[0].plot(x, stats.norm.pdf(x),'r-', lw=2, alpha=0.6)\n",
    "    axs[1].plot(x, grad_log_normal(x),'b-', lw=2, alpha=0.6)\n",
    "    axs[2].plot(x, grad_log_normal(x)*m(x),'g-', lw=2, alpha=0.6)\n",
    "    fig.savefig(FILE_NAME, format=\"pdf\", bbox_inches= \"tight\")"
   ]
  }
 ],
 "metadata": {
  "kernelspec": {
   "display_name": "Python 3 (ipykernel)",
   "language": "python",
   "name": "python3"
  },
  "language_info": {
   "codemirror_mode": {
    "name": "ipython",
    "version": 3
   },
   "file_extension": ".py",
   "mimetype": "text/x-python",
   "name": "python",
   "nbconvert_exporter": "python",
   "pygments_lexer": "ipython3",
   "version": "3.8.5"
  }
 },
 "nbformat": 4,
 "nbformat_minor": 5
}
